{
 "cells": [
  {
   "cell_type": "markdown",
   "metadata": {},
   "source": [
    "### Exercise 2: Data Exploration"
   ]
  },
  {
   "attachments": {},
   "cell_type": "markdown",
   "metadata": {},
   "source": [
    "In this exercise we will learn more advanced methods of exploring datasets. In particular, we will print different kind of summaries of a DataFrame, unique values of a column, amount of empty values and the correlation between variables. In addition, visualizations of variables will be plotted."
   ]
  },
  {
   "attachments": {},
   "cell_type": "markdown",
   "metadata": {},
   "source": [
    "Import the packages and data"
   ]
  },
  {
   "cell_type": "code",
   "execution_count": null,
   "metadata": {},
   "outputs": [],
   "source": [
    "import pandas as pd\n",
    "import numpy as np\n",
    "import matplotlib.pyplot as plt"
   ]
  },
  {
   "cell_type": "code",
   "execution_count": null,
   "metadata": {},
   "outputs": [],
   "source": [
    "df = pd.read_csv('https://raw.githubusercontent.com/adc-jaimier/PythonTraining/main/Data/Exercise2.csv')"
   ]
  },
  {
   "attachments": {},
   "cell_type": "markdown",
   "metadata": {},
   "source": [
    "Print a concise summary of a DataFrame."
   ]
  },
  {
   "cell_type": "code",
   "execution_count": null,
   "metadata": {},
   "outputs": [],
   "source": [
    "df.info()"
   ]
  },
  {
   "attachments": {},
   "cell_type": "markdown",
   "metadata": {},
   "source": [
    "Generate descriptive statistics and analyse it. Which interessting information can you get from it?"
   ]
  },
  {
   "cell_type": "code",
   "execution_count": null,
   "metadata": {},
   "outputs": [],
   "source": [
    "df.describe()"
   ]
  },
  {
   "cell_type": "code",
   "execution_count": null,
   "metadata": {},
   "outputs": [],
   "source": [
    "# Return counts of unique rows of the dependent variable Y.\n",
    "df['Y'].nunique()"
   ]
  },
  {
   "cell_type": "code",
   "execution_count": null,
   "metadata": {},
   "outputs": [],
   "source": [
    "# Return list with all distinct element in AGE columns.\n",
    "df['AGE'].unique()"
   ]
  },
  {
   "cell_type": "code",
   "execution_count": null,
   "metadata": {},
   "outputs": [],
   "source": [
    "# Return number of distinct elements per columns\n",
    "df.value_counts()"
   ]
  },
  {
   "cell_type": "code",
   "execution_count": null,
   "metadata": {},
   "outputs": [],
   "source": [
    "# Return count of 'smokers' per dependent variable Y\n",
    "# Hint: use groupby in combination with aggregated function\n",
    "df.reset_index().groupby(by='SMOKER').count()"
   ]
  },
  {
   "cell_type": "code",
   "execution_count": null,
   "metadata": {},
   "outputs": [],
   "source": [
    "# average age within group (caries or non-caries) using groupby\n",
    "df.groupby(by='AGE').mean()"
   ]
  },
  {
   "cell_type": "code",
   "execution_count": null,
   "metadata": {},
   "outputs": [],
   "source": [
    "# Return number of missing data point (NaN) per columns\n",
    "df.isna().sum()"
   ]
  },
  {
   "attachments": {},
   "cell_type": "markdown",
   "metadata": {},
   "source": [
    "### Visualization of variables"
   ]
  },
  {
   "cell_type": "code",
   "execution_count": null,
   "metadata": {},
   "outputs": [],
   "source": [
    "# Plot a histogram of the column Y\n",
    "df['Y'].hist()"
   ]
  },
  {
   "cell_type": "code",
   "execution_count": null,
   "metadata": {},
   "outputs": [],
   "source": [
    "# histogram any of the input columns\n",
    "df['AGE'].hist()"
   ]
  },
  {
   "cell_type": "code",
   "execution_count": null,
   "metadata": {},
   "outputs": [],
   "source": [
    "# Plot a histogram of the column N_CHECKS per value of Y (0/1)\n",
    "no_caries = df[df['Y']==0]\n",
    "caries = df[df['Y']==1]\n",
    "\n",
    "min_checks = int(min(df['N_CHECKS']))\n",
    "max_checks = int(max(df['N_CHECKS']))\n",
    "bins = range(min_checks, min_checks)\n",
    "\n",
    "fig, ax = plt.subplot()\n",
    "ax.hist(x=no_caries['N_CHECKS'], bins=bins, alpha=0.5, label='no carries') \n",
    "ax.hist(x=caries['N_CHECKS'], bins=bins, alpha=0.5, label='carries')\n",
    "\n",
    "ax.set_xlabel('Nr. of checks')\n",
    "ax.set_xlabel('Nr. of patiens')\n",
    "ax.set_title('Distribution of N_CHECKS per target variable')\n",
    "plt.show()\n"
   ]
  },
  {
   "attachments": {},
   "cell_type": "markdown",
   "metadata": {},
   "source": [
    "### Extra exercises"
   ]
  },
  {
   "cell_type": "code",
   "execution_count": null,
   "metadata": {},
   "outputs": [],
   "source": [
    "# Correlation heatmap of all input variables\n",
    "correlations = df.corr()\n",
    "\n",
    "fig, ax = plt.subplots(figsize=(8,8))\n",
    "im = ax.imshow(correlations)\n",
    "fig.colorbar(im, orientation = 'vertical')\n",
    "\n",
    "ax.set_xticklabels(df.columns, rotation=90)\n",
    "ax.set_yticklabels(df.columns)\n",
    "ax.set_title('Correlation matrix')\n",
    "plt.show()"
   ]
  },
  {
   "cell_type": "code",
   "execution_count": null,
   "metadata": {},
   "outputs": [],
   "source": [
    "# Boxplot per group (Y=0 vs. Y=1) for any of the continuous input variables\n",
    "fig, ax = plt.subplots()\n",
    "ax.boxplot(no_caries['N_CHECKS'])\n",
    "ax.boxplot(caries['N_CHECKS'])\n",
    "\n",
    "ax.set_xlabel('Nr. of checks')\n",
    "ax.set_xlabel('Nr. of patiens')\n",
    "ax.set_title('Boxplot of N_CHECKS per target variable')\n",
    "plt.show()"
   ]
  }
 ],
 "metadata": {
  "kernelspec": {
   "display_name": "Python 3",
   "language": "python",
   "name": "python3"
  },
  "language_info": {
   "codemirror_mode": {
    "name": "ipython",
    "version": 3
   },
   "file_extension": ".py",
   "mimetype": "text/x-python",
   "name": "python",
   "nbconvert_exporter": "python",
   "pygments_lexer": "ipython3",
   "version": "3.10.6"
  },
  "orig_nbformat": 4,
  "vscode": {
   "interpreter": {
    "hash": "916dbcbb3f70747c44a77c7bcd40155683ae19c65e1c03b4aa3499c5328201f1"
   }
  }
 },
 "nbformat": 4,
 "nbformat_minor": 2
}
