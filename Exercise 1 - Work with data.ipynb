{
 "cells": [
  {
   "cell_type": "markdown",
   "metadata": {},
   "source": [
    "### Exercise 1: Work with data"
   ]
  },
  {
   "attachments": {},
   "cell_type": "markdown",
   "metadata": {},
   "source": [
    "In this exercise we will learn the bascis of working with and exploring datasets. In particular, we will create and import data and learn how to view the basic dataset information like, the shape of the dataset, column names and data types."
   ]
  },
  {
   "attachments": {},
   "cell_type": "markdown",
   "metadata": {},
   "source": [
    "First, import the packages we are working with: NumPy and pandas"
   ]
  },
  {
   "cell_type": "code",
   "execution_count": null,
   "metadata": {},
   "outputs": [],
   "source": [
    "import numpy as np\n",
    "import pandas as pd"
   ]
  },
  {
   "attachments": {},
   "cell_type": "markdown",
   "metadata": {},
   "source": [
    "Creating a DataFrame."
   ]
  },
  {
   "cell_type": "code",
   "execution_count": null,
   "metadata": {},
   "outputs": [],
   "source": [
    "# Create and populate a 3x2 NumPy array with integers\n",
    "data = np.array(<your-code-here>)\n",
    "\n",
    "# Create a Python list that holds the names of the two columns: temperature and activity\n",
    "column_names = [<your-code-here>]\n",
    "\n",
    "# Create a Python list that holds the names of the three indices: 0, 1, and 2\n",
    "index_names = [<your-code-here>]\n",
    "\n",
    "# Create a DataFrame.\n",
    "dataframe = pd.DataFrame(data=data, index=index_names, columns=column_names)\n",
    "\n",
    "# Print the entire DataFrame\n",
    "print(dataframe)"
   ]
  },
  {
   "attachments": {},
   "cell_type": "markdown",
   "metadata": {},
   "source": [
    "Adding a new column to a DataFrame."
   ]
  },
  {
   "cell_type": "code",
   "execution_count": null,
   "metadata": {},
   "outputs": [],
   "source": [
    "# Create a new column named adjusted: activity + 2\n",
    "dataframe[\"adjusted\"] = <your-code-here>\n",
    "\n",
    "# Print the entire DataFrame\n",
    "print(dataframe)"
   ]
  },
  {
   "attachments": {},
   "cell_type": "markdown",
   "metadata": {},
   "source": [
    "Now we know how to create a DataFrame, we will import a large csv file as a DataFrame. "
   ]
  },
  {
   "cell_type": "code",
   "execution_count": null,
   "metadata": {},
   "outputs": [],
   "source": [
    "# Fill in the file name and folder and import the dataset\n",
    "file_name = <your-code-here>\n",
    "df = pd.read_csv(file_name)"
   ]
  },
  {
   "attachments": {},
   "cell_type": "markdown",
   "metadata": {},
   "source": [
    "After importing the dataset as a DataFrame, it is possible to view the structure of the dataset. In the next exercises, you are going to learn how to work with a DataFrame. "
   ]
  },
  {
   "cell_type": "code",
   "execution_count": null,
   "metadata": {},
   "outputs": [],
   "source": [
    "# Show first/last 5 rows of the dataset\n",
    "df.<your-code-here>"
   ]
  },
  {
   "cell_type": "code",
   "execution_count": null,
   "metadata": {},
   "outputs": [],
   "source": [
    "# Show shape of the dataset\n",
    "df.<your-code-here>"
   ]
  },
  {
   "cell_type": "code",
   "execution_count": null,
   "metadata": {},
   "outputs": [],
   "source": [
    "# Show column names of the dataset\n",
    "df.<your-code-here>"
   ]
  },
  {
   "cell_type": "code",
   "execution_count": null,
   "metadata": {},
   "outputs": [],
   "source": [
    "# Show index of the dataset\n",
    "df.<your-code-here>"
   ]
  },
  {
   "cell_type": "code",
   "execution_count": null,
   "metadata": {},
   "outputs": [],
   "source": [
    "# Show data types of the dataset\n",
    "df.<your-code-here>"
   ]
  },
  {
   "attachments": {},
   "cell_type": "markdown",
   "metadata": {},
   "source": [
    "### Extra exercises"
   ]
  },
  {
   "attachments": {},
   "cell_type": "markdown",
   "metadata": {},
   "source": [
    "It is also possible to show specific parts of the DataFrame based on column, rows or a filter condition. In the next exercises, you will be asked to implement these tasks."
   ]
  },
  {
   "cell_type": "code",
   "execution_count": null,
   "metadata": {},
   "outputs": [],
   "source": [
    "# Show AGE column\n",
    "df[<your-code-here>]"
   ]
  },
  {
   "cell_type": "code",
   "execution_count": null,
   "metadata": {},
   "outputs": [],
   "source": [
    "# Show 10th row of the dataset\n",
    "df.<your-code-here>"
   ]
  },
  {
   "cell_type": "code",
   "execution_count": null,
   "metadata": {},
   "outputs": [],
   "source": [
    "# 20th row and 5th column -> value"
   ]
  },
  {
   "cell_type": "code",
   "execution_count": null,
   "metadata": {},
   "outputs": [],
   "source": [
    "# Filter dataframe based on date of birth month: April and May (4 and 5)\n",
    "df[df['DATE_OF_BIRTH_MONTH'].<your-code-here>]"
   ]
  }
 ],
 "metadata": {
  "kernelspec": {
   "display_name": "Python 3",
   "language": "python",
   "name": "python3"
  },
  "language_info": {
   "codemirror_mode": {
    "name": "ipython",
    "version": 3
   },
   "file_extension": ".py",
   "mimetype": "text/x-python",
   "name": "python",
   "nbconvert_exporter": "python",
   "pygments_lexer": "ipython3",
   "version": "3.10.10"
  },
  "orig_nbformat": 4,
  "vscode": {
   "interpreter": {
    "hash": "c351a026ceba773a9e9edcaf3e5224f6c71f8389ce1465b0fca1a5547c9b1e4c"
   }
  }
 },
 "nbformat": 4,
 "nbformat_minor": 2
}
