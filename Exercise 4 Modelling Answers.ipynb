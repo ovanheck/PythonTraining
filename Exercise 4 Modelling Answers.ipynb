{
  "cells": [
    {
      "cell_type": "markdown",
      "metadata": {
        "id": "8OOccaioM2Qf"
      },
      "source": [
        "### Exercise 4: Modelling"
      ]
    },
    {
      "cell_type": "markdown",
      "metadata": {
        "id": "qFs6Lr4rM2Ql"
      },
      "source": [
        "In this exercise we will implement a classification model to predict which patients will get caries in the coming year and which not."
      ]
    },
    {
      "cell_type": "code",
      "execution_count": 16,
      "metadata": {
        "id": "V2J-YGoFM2Qm"
      },
      "outputs": [],
      "source": [
        "import pandas as pd\n",
        "from sklearn.linear_model import LogisticRegression\n",
        "from sklearn.model_selection import train_test_split\n",
        "from sklearn.metrics import accuracy_score"
      ]
    },
    {
      "cell_type": "code",
      "execution_count": 11,
      "metadata": {
        "id": "XLuHorbWM2Qo"
      },
      "outputs": [],
      "source": [
        "# Load data\n",
        "df = pd.read_csv('ex4goed.csv')\n",
        "X = df[['DATE_OF_BIRTH_YEAR', 'DATE_OF_BIRTH_MONTH',\n",
        "       'DATE_OF_BIRTH_DAY', 'AGE', 'N_PERIODONTAL', 'N_FILLING',\n",
        "       'N_ORAL_HYGIENE', 'N_CHECKS', 'N_YEARS', 'PR_DENTIST', 'DPSI',\n",
        "       'N_FAMILY', 'DIABETES', 'SMOKER']]\n",
        "\n",
        "y = df['Y']"
      ]
    },
    {
      "cell_type": "markdown",
      "metadata": {
        "id": "8Xaze9hHM2Qp"
      },
      "source": [
        "A first step is to split the data between training and test (out of sample) data. Use scikit learn to split the data, where 80% of the rows will form the training data and the rest will be test data."
      ]
    },
    {
      "cell_type": "code",
      "execution_count": 12,
      "metadata": {
        "id": "mwMx3gcLM2Qp"
      },
      "outputs": [],
      "source": [
        "X_train, X_test, y_train, y_test = train_test_split(X, y, test_size=0.2)"
      ]
    },
    {
      "cell_type": "markdown",
      "metadata": {
        "id": "C4hjXtiWM2Qq"
      },
      "source": [
        "Now that we have a dedicated train and test dataset, we can train a classification model on the data. Use the next block to train a logistic regression model"
      ]
    },
    {
      "cell_type": "code",
      "execution_count": 14,
      "metadata": {
        "id": "YyzQQf2EM2Qq",
        "outputId": "d026c086-194f-463d-c6e2-45e2544f4c6c",
        "colab": {
          "base_uri": "https://localhost:8080/"
        }
      },
      "outputs": [
        {
          "output_type": "stream",
          "name": "stderr",
          "text": [
            "/usr/local/lib/python3.9/dist-packages/sklearn/linear_model/_logistic.py:458: ConvergenceWarning: lbfgs failed to converge (status=1):\n",
            "STOP: TOTAL NO. of ITERATIONS REACHED LIMIT.\n",
            "\n",
            "Increase the number of iterations (max_iter) or scale the data as shown in:\n",
            "    https://scikit-learn.org/stable/modules/preprocessing.html\n",
            "Please also refer to the documentation for alternative solver options:\n",
            "    https://scikit-learn.org/stable/modules/linear_model.html#logistic-regression\n",
            "  n_iter_i = _check_optimize_result(\n"
          ]
        }
      ],
      "source": [
        "clf = LogisticRegression()\n",
        "clf.fit(X_train, y_train)\n",
        "\n",
        "y_pred = clf.predict(X_test)"
      ]
    },
    {
      "cell_type": "markdown",
      "metadata": {
        "id": "qq4f9VhfM2Qs"
      },
      "source": [
        "With the trained model, we can evaluate how the model performs on out of sample observations. To do this, we can make use of the accuracy. What is the accuracy of your trained model? "
      ]
    },
    {
      "cell_type": "code",
      "execution_count": 17,
      "metadata": {
        "id": "QXcyNXbmM2Qs",
        "outputId": "61e5e128-6e0d-4fcf-9a17-f777704ef3c1",
        "colab": {
          "base_uri": "https://localhost:8080/"
        }
      },
      "outputs": [
        {
          "output_type": "stream",
          "name": "stdout",
          "text": [
            "The accuracy of the Logistic Regression is 0.72\n"
          ]
        }
      ],
      "source": [
        "accuracy = accuracy_score(y_test, y_pred)\n",
        "print(f'The accuracy of the Logistic Regression is {accuracy:.2f}') \n",
        "# This print statement is a nice way of including variables in the print statement by using {}.\n",
        "# Furthermore, to format floats, we can use the .2f which tells Python to format on 2 decimals"
      ]
    },
    {
      "cell_type": "markdown",
      "metadata": {
        "id": "cRtQ3B7sM2Qt"
      },
      "source": [
        "The accuracy is a very straightforward metric for classification, but not always the best option. Especially when there is an uneven distributions in the classes. Can you think of a reason why? As an alternative, we can use the recall score. Calculate the recall score for your trained logistic regression model. Print the recall rounded up to three decimals"
      ]
    },
    {
      "cell_type": "code",
      "execution_count": 22,
      "metadata": {
        "id": "w6vPdCiVM2Qu",
        "outputId": "ecd1491c-9e1a-454e-fc1e-ec80b8ad2171",
        "colab": {
          "base_uri": "https://localhost:8080/"
        }
      },
      "outputs": [
        {
          "output_type": "stream",
          "name": "stdout",
          "text": [
            "The recall of the Logistic Regression is 0.13\n"
          ]
        }
      ],
      "source": [
        "from sklearn.metrics import recall_score\n",
        "recall = recall_score(y_test, y_pred)\n",
        "print(f'The recall of the Logistic Regression is {recall:.2f}') "
      ]
    },
    {
      "cell_type": "markdown",
      "metadata": {
        "id": "A7tGfeo4M2Qu"
      },
      "source": [
        "The scikit learn LogisticRegression classifier takes no required arguments when initializing. However, it definitely takes optional arguments as arguments. This include, but are not limited to, for example a penalty parameter, a regularization parameter, or the solver that will be used. To find out which arguments a function takes, always check the documentation. Train a new logistic regression model that takes into account the class imbalance in the target variable. How big is difference in the accuracy, if any? And in the recall? "
      ]
    },
    {
      "cell_type": "code",
      "execution_count": null,
      "metadata": {
        "id": "-I5XZlzdM2Qu"
      },
      "outputs": [],
      "source": [
        "# your code here"
      ]
    },
    {
      "cell_type": "markdown",
      "metadata": {
        "id": "nCJ-r0soM2Qv"
      },
      "source": [
        "### Extra exercises"
      ]
    },
    {
      "cell_type": "markdown",
      "metadata": {
        "id": "CvB-QSQtM2Qv"
      },
      "source": [
        "All performance metrics for classification models can be constructed from the so called confusion matrix, which is an overview of the amount of True Positives (TP), False Positives (FP), False Negatives (FN) and True Negative (TN). Use a scikit learn method to get the confusion matrix for the trained model. Hint: https://scikit-learn.org/stable/modules/generated/sklearn.metrics.confusion_matrix.html. "
      ]
    },
    {
      "cell_type": "code",
      "execution_count": 23,
      "metadata": {
        "id": "K5ZL-h3uM2Qv",
        "outputId": "314bf310-8b10-4f69-a8b4-d0d0963f315f",
        "colab": {
          "base_uri": "https://localhost:8080/"
        }
      },
      "outputs": [
        {
          "output_type": "stream",
          "name": "stdout",
          "text": [
            "[[5842  160]\n",
            " [2197  333]]\n"
          ]
        }
      ],
      "source": [
        "from sklearn.metrics import confusion_matrix\n",
        "cm = confusion_matrix(y_test, y_pred)\n",
        "print(cm)"
      ]
    },
    {
      "cell_type": "markdown",
      "metadata": {
        "id": "BZtFdtJhM2Qw"
      },
      "source": [
        "Can you also compute the accuracy from the confusion matrix result, using Python code?"
      ]
    },
    {
      "cell_type": "code",
      "execution_count": 26,
      "metadata": {
        "id": "wcAMcFLtM2Qw",
        "outputId": "13b63330-1594-4474-c3dd-fd2135a35c64",
        "colab": {
          "base_uri": "https://localhost:8080/"
        }
      },
      "outputs": [
        {
          "output_type": "stream",
          "name": "stdout",
          "text": [
            "0.7237458977965308\n"
          ]
        }
      ],
      "source": [
        "tp = cm[0][0]\n",
        "tn = cm[1][1]\n",
        "total = cm.sum()\n",
        "\n",
        "accuracy = (tp+tn)/total\n",
        "\n",
        "print(accuracy)\n"
      ]
    }
  ],
  "metadata": {
    "kernelspec": {
      "display_name": "Python 3",
      "language": "python",
      "name": "python3"
    },
    "language_info": {
      "name": "python",
      "version": "3.10.10"
    },
    "orig_nbformat": 4,
    "vscode": {
      "interpreter": {
        "hash": "c351a026ceba773a9e9edcaf3e5224f6c71f8389ce1465b0fca1a5547c9b1e4c"
      }
    },
    "colab": {
      "provenance": []
    }
  },
  "nbformat": 4,
  "nbformat_minor": 0
}