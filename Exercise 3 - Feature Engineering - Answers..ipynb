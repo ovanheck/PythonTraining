{
 "cells": [
  {
   "attachments": {},
   "cell_type": "markdown",
   "metadata": {},
   "source": [
    "### Exercise 3: Feature engineering"
   ]
  },
  {
   "cell_type": "code",
   "execution_count": null,
   "metadata": {},
   "outputs": [
    {
     "ename": "",
     "evalue": "",
     "output_type": "error",
     "traceback": [
      "\u001b[1;31mRunning cells with 'c:\\Users\\JaimieRutgersADC\\AppData\\Local\\Microsoft\\WindowsApps\\python3.10.exe' requires the ipykernel package.\n",
      "\u001b[1;31mRun the following command to install 'ipykernel' into the Python environment. \n",
      "\u001b[1;31mCommand: 'c:/Users/JaimieRutgersADC/AppData/Local/Microsoft/WindowsApps/python3.10.exe -m pip install ipykernel -U --user --force-reinstall'"
     ]
    }
   ],
   "source": [
    "import pandas as pd"
   ]
  },
  {
   "attachments": {},
   "cell_type": "markdown",
   "metadata": {},
   "source": [
    "In this exercise we will peform feature engineering steps. In particular, we will fill missing value, correct outliers, and convert text to numbers."
   ]
  },
  {
   "cell_type": "code",
   "execution_count": 22,
   "metadata": {},
   "outputs": [],
   "source": [
    "df = pd.read_csv('Data/Exercise3.csv')"
   ]
  },
  {
   "attachments": {},
   "cell_type": "markdown",
   "metadata": {},
   "source": [
    "A first exercise is to drop duplicate rows. These rows do not include any additional information and may contaminate the data. However, in general, it should be investigated whether duplicates actually introduce noise to the data. It can for example occur that it perfectly makes sense that rows coincidentally have identical values. Use pandas to drop duplicate values from the dataframe."
   ]
  },
  {
   "cell_type": "code",
   "execution_count": null,
   "metadata": {},
   "outputs": [],
   "source": [
    "# your code here"
   ]
  },
  {
   "attachments": {},
   "cell_type": "markdown",
   "metadata": {},
   "source": [
    "Next, we want to impute any missing values. For now, we will impute the N_FAMILY and SMOKER column. Fill the N_FAMILY column with the average family size. For the SMOKER column, assume that when it is unknown whether someone smokes, this person does not smoke."
   ]
  },
  {
   "cell_type": "code",
   "execution_count": null,
   "metadata": {},
   "outputs": [],
   "source": [
    "df['N_FAMILY'] = # your code here\n",
    "df['SMOKER'] = # your code here"
   ]
  },
  {
   "attachments": {},
   "cell_type": "markdown",
   "metadata": {},
   "source": [
    "During the data exploration we discovered that the 'AGE' column contains missing values. Furthermore, ages above 100 will be considered as an outlier. One way of correcting the 'AGE' column is to use the 'DATE_OF_BIRTH_YEAR' column instead, combined with the current year. After all, the difference between the year you were born and the current year determines your age. Complete the following code to select only rows where 'AGE' is NULL or where 'AGE' is larger than 100. Next, use the current year to determine the age."
   ]
  },
  {
   "cell_type": "code",
   "execution_count": null,
   "metadata": {},
   "outputs": [],
   "source": [
    "# Replace nulls with age based on year of birth \n",
    "df.loc[<your-code-here>,'AGE'] = <your-code-here> - df['DATE_OF_BIRTH_YEAR']\n",
    "\n",
    "# Replace age > 100 with age based on year of birth \n",
    "df.loc[<your-code-here>,'AGE'] = <your-code-here> - df['DATE_OF_BIRTH_YEAR']"
   ]
  },
  {
   "attachments": {},
   "cell_type": "markdown",
   "metadata": {},
   "source": [
    "Next, we drop rows with probabilities larger than one. "
   ]
  },
  {
   "cell_type": "code",
   "execution_count": null,
   "metadata": {},
   "outputs": [],
   "source": [
    "df = df.drop(df[df['PR_DENTIST'] > 1].index)"
   ]
  },
  {
   "attachments": {},
   "cell_type": "markdown",
   "metadata": {},
   "source": [
    "The 'N_FILLING' column contains both text and numbers. These should all be converted to numbers. Execute the following cell to find out what the text values are. Then, enter the correct text values that should be replaced."
   ]
  },
  {
   "cell_type": "code",
   "execution_count": null,
   "metadata": {},
   "outputs": [],
   "source": [
    "df['N_FILLING'].value_counts().sort_index()"
   ]
  },
  {
   "cell_type": "code",
   "execution_count": 23,
   "metadata": {},
   "outputs": [
    {
     "name": "stdout",
     "output_type": "stream",
     "text": [
      "['6.0' '1.0' '0.0' '5.0' '10.0' nan '8.0' '3.0' '24.0' '9.0' '2.0' '13.0'\n",
      " '7.0' '14.0' '15.0' 'no' '4.0' '11.0' '19.0' '16.0' '12.0' '21.0' '29.0'\n",
      " '27.0' '20.0' '17.0' '34.0' 'zero' '22.0' '18.0' '28.0' 'one' '31.0'\n",
      " '32.0' '23.0' '36.0' '56.0' '30.0' '33.0' '26.0' '39.0' '48.0' '37.0'\n",
      " '25.0' '50.0' '38.0' 'three' '47.0' '43.0' '45.0' '42.0' '58.0' '35.0'\n",
      " '41.0' '40.0' '52.0' '57.0' 'five' '49.0' '44.0' '46.0' '61.0' '51.0']\n",
      "37\n",
      "72797\n"
     ]
    }
   ],
   "source": [
    "\n",
    "df['N_FILLING'] = df['N_FILLING'].replace('no', '0')\n",
    "df['N_FILLING'] = df['N_FILLING'].replace(<your-code-here>, '0')\n",
    "df['N_FILLING'] = df['N_FILLING'].replace(<your-code-here>, '1')\n",
    "df['N_FILLING'] = df['N_FILLING'].replace(<your-code-here>, '3')\n",
    "df['N_FILLING'] = df['N_FILLING'].replace(<your-code-here>, '5')\n",
    "\n",
    "df['N_FILLING'] = df['N_FILLING'].astype('float')"
   ]
  },
  {
   "attachments": {},
   "cell_type": "markdown",
   "metadata": {},
   "source": [
    "The same problem applies to the 'SMOKER' column. Implement the same solution for this column. Hint: make use of  ```value_counts().sort_index()```"
   ]
  },
  {
   "cell_type": "code",
   "execution_count": null,
   "metadata": {},
   "outputs": [],
   "source": [
    "# your code here"
   ]
  },
  {
   "attachments": {},
   "cell_type": "markdown",
   "metadata": {},
   "source": [
    "Sometimes it makes sense to group values of certain variables. For example, would it really make a difference whether someone is 53 of 54 in his likelihood to develop caries? Or does it also make sense to distinguish between certain age groups? Divide the AGE column into 5 age categories. Hint: look into pandas cut(). Also, give every category a unique name. You might want to look into the label argument of the cut() function. Make sure to also drop the original age category."
   ]
  },
  {
   "cell_type": "code",
   "execution_count": null,
   "metadata": {},
   "outputs": [],
   "source": [
    "df['AGE_CATEGORY'] = # your code here"
   ]
  },
  {
   "attachments": {},
   "cell_type": "markdown",
   "metadata": {},
   "source": [
    "Next, convert the categorical column to a dummy column. Hint: pandas get_dummies(). "
   ]
  },
  {
   "cell_type": "code",
   "execution_count": null,
   "metadata": {},
   "outputs": [],
   "source": [
    "# your code here"
   ]
  },
  {
   "attachments": {},
   "cell_type": "markdown",
   "metadata": {},
   "source": [
    "### Extra exercises"
   ]
  },
  {
   "attachments": {},
   "cell_type": "markdown",
   "metadata": {},
   "source": [
    "It is also possible for new features to be created, for example it would be more interesting to know how many checks the patient has had relative to the number of years the data has been collected as this is more informative than just number of checkups. Implement a feature that contains the number of checks per year"
   ]
  },
  {
   "cell_type": "code",
   "execution_count": null,
   "metadata": {},
   "outputs": [],
   "source": [
    "# your code here"
   ]
  },
  {
   "attachments": {},
   "cell_type": "markdown",
   "metadata": {},
   "source": [
    "Can you think of any other features that can be derived from the data?"
   ]
  },
  {
   "cell_type": "code",
   "execution_count": null,
   "metadata": {},
   "outputs": [],
   "source": [
    "# your code here"
   ]
  }
 ],
 "metadata": {
  "kernelspec": {
   "display_name": "python-training",
   "language": "python",
   "name": "python3"
  },
  "language_info": {
   "codemirror_mode": {
    "name": "ipython",
    "version": 3
   },
   "file_extension": ".py",
   "mimetype": "text/x-python",
   "name": "python",
   "nbconvert_exporter": "python",
   "pygments_lexer": "ipython3",
   "version": "3.9.16"
  },
  "orig_nbformat": 4,
  "vscode": {
   "interpreter": {
    "hash": "7ca4bd901dc1bfeb72df468cc9c49430605f3251de1469741924421f1c1d0827"
   }
  }
 },
 "nbformat": 4,
 "nbformat_minor": 2
}
